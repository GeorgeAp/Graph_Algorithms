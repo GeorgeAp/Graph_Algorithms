{
 "cells": [
  {
   "cell_type": "markdown",
   "metadata": {},
   "source": [
    "#### Pseudocode \n",
    "\n",
    "Input: A digraph G and a starting vertex root of Graph\n",
    "\n",
    "Output: The parent links trace the shortest path back to root\n",
    "\n",
    "procedure BFS(G,start_v):\n",
    "        let Q be a queue\n",
    "        label start_v as discovered\n",
    "        Q.enqueue(start_v)\n",
    "        while Q is not empty\n",
    "            v = Q.dequeue()\n",
    "            if v is the goal:\n",
    "                return v\n",
    "            for all edges from v to w in G.adjacentEdges(v) do:\n",
    "                if w is not labeled as discovered:\n",
    "                    label w as discovered\n",
    "                    w.parent = v\n",
    "                    Q.enqueue(w) \n",
    "\n"
   ]
  },
  {
   "cell_type": "code",
   "execution_count": 22,
   "metadata": {},
   "outputs": [],
   "source": [
    "from collections import defaultdict\n",
    "\n",
    "# create graph class\n",
    "class Graph:\n",
    "    \n",
    "    def __init__(self):\n",
    "        \n",
    "        # create dictionary to store graph\n",
    "        self.graph = defaultdict(list)\n",
    "        \n",
    "    # create fucntion to add edges to graph using adjacency matrix\n",
    "    def addEdge(self, u, v):\n",
    "        \n",
    "        self.graph[u].append(v)\n",
    "        \n",
    "        print(self.graph[2])\n",
    "        \n",
    "    # function to find the BFS path and print it\n",
    "    def BFS(self, s):\n",
    "    \n",
    "        visitedVertex = [False]*(len(self.graph)) # Mark all vertices as not visited\n",
    "    \n",
    "        # create a path\n",
    "        path = []\n",
    "    \n",
    "        path.append(s)\n",
    "        visitedVertex[s] = True # Mark the root vertex s as visited\n",
    "\n",
    "        while path:\n",
    "\n",
    "            # Dequeue a vertex from path and show it\n",
    "            s = path.pop(0)\n",
    "            print(s, end = \" \")\n",
    "\n",
    "            for i in self.graph[s]:\n",
    "                if visitedVertex[i] == False:\n",
    "                    path.append(i)\n",
    "                    visitedVertex[i] = True\n"
   ]
  },
  {
   "cell_type": "code",
   "execution_count": 23,
   "metadata": {},
   "outputs": [
    {
     "name": "stdout",
     "output_type": "stream",
     "text": [
      "[]\n",
      "[]\n",
      "[]\n",
      "[]\n",
      "[5]\n",
      "[5, 6]\n",
      "[5, 6]\n",
      "[5, 6]\n",
      "[5, 6]\n",
      "[5, 6]\n",
      "[5, 6]\n",
      "[5, 6]\n",
      "The following is BFT for digraph with 8 vertices starting from vertex 3\n",
      "3 4 1 7 0 2 5 6 "
     ]
    }
   ],
   "source": [
    "# Example digraph with 8 vertices\n",
    "\n",
    "g = Graph()\n",
    "g.addEdge(0, 2)\n",
    "g.addEdge(0, 4)\n",
    "g.addEdge(1, 0)\n",
    "g.addEdge(1, 7)\n",
    "g.addEdge(2, 5)\n",
    "g.addEdge(2, 6)\n",
    "g.addEdge(3, 4)\n",
    "g.addEdge(4, 1)\n",
    "g.addEdge(4, 7)\n",
    "g.addEdge(5, 1)\n",
    "g.addEdge(6, 7)\n",
    "g.addEdge(7, 3)\n",
    "\n",
    "\n",
    "print(\"The following is BFT for digraph with 8 vertices starting from vertex 3\")\n",
    "\n",
    "g.BFS(3)"
   ]
  },
  {
   "cell_type": "code",
   "execution_count": null,
   "metadata": {},
   "outputs": [],
   "source": []
  }
 ],
 "metadata": {
  "kernelspec": {
   "display_name": "Python 3",
   "language": "python",
   "name": "python3"
  },
  "language_info": {
   "codemirror_mode": {
    "name": "ipython",
    "version": 3
   },
   "file_extension": ".py",
   "mimetype": "text/x-python",
   "name": "python",
   "nbconvert_exporter": "python",
   "pygments_lexer": "ipython3",
   "version": "3.7.2"
  }
 },
 "nbformat": 4,
 "nbformat_minor": 2
}
